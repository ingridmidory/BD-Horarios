{
  "nbformat": 4,
  "nbformat_minor": 0,
  "metadata": {
    "colab": {
      "provenance": [],
      "authorship_tag": "ABX9TyOglmtHjulAR0XJEKQUfhu6",
      "include_colab_link": true
    },
    "kernelspec": {
      "name": "python3",
      "display_name": "Python 3"
    },
    "language_info": {
      "name": "python"
    }
  },
  "cells": [
    {
      "cell_type": "markdown",
      "metadata": {
        "id": "view-in-github",
        "colab_type": "text"
      },
      "source": [
        "<a href=\"https://colab.research.google.com/github/ingridmidory/BD-Horarios/blob/main/Cargar_los_datos.ipynb\" target=\"_parent\"><img src=\"https://colab.research.google.com/assets/colab-badge.svg\" alt=\"Open In Colab\"/></a>"
      ]
    },
    {
      "cell_type": "markdown",
      "source": [
        "1. Cargar los datos\n",
        "\n"
      ],
      "metadata": {
        "id": "E8XQ9rVTkHXk"
      }
    },
    {
      "cell_type": "code",
      "source": [],
      "metadata": {
        "id": "LRHO-gqXkFQS"
      },
      "execution_count": null,
      "outputs": []
    }
  ]
}